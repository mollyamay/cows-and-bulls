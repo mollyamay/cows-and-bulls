{
 "cells": [
  {
   "cell_type": "code",
   "execution_count": null,
   "metadata": {},
   "outputs": [],
   "source": [
    "def cowsNbulls():\n",
    "    '''play cows and bulls game where user guesses a random 4 digit number and the game returns how many digits match'''\n",
    "    import random\n",
    "    #create random 4 digit number\n",
    "    answer = random.sample(range(0,10),4)\n",
    "    #user's initial guess as a 4 digit string\n",
    "    guessStr = input('''Welcome to the cows and bulls game, type \\'exit\\' to end game. \\r Guess a 4 digit number: ''')\n",
    "    #make user's string into a list of integers\n",
    "    guess = [int(guessStr[i]) for i in range(0,len(guessStr))]\n",
    "    numGuess = 1\n",
    "    #create infinite loop\n",
    "    while True:\n",
    "        if guessStr == 'exit':\n",
    "            break\n",
    "        #find the number of cows\n",
    "        cows = []\n",
    "        bulls = []\n",
    "        for i in range(0,len(answer)):\n",
    "            if guess[i] == answer[i]:\n",
    "                cows.append(1)\n",
    "            #find bulls -- if guess repeats it will find all matches\n",
    "            elif guess[i] in answer:\n",
    "                bulls.append(1)\n",
    "        #tell loop to break if correct answer is guessed\n",
    "        if len(cows) == 4:\n",
    "            break\n",
    "        print('you have %d cows and %d bulls' %(len(cows),len(bulls)))\n",
    "        #guess another 4 digit string\n",
    "        guessStr = input('guess another 4 digit number: ')\n",
    "        #make user's string into a list of integers\n",
    "        guess = [int(guessStr[i]) for i in range(0,len(guessStr))]\n",
    "        numGuess += 1      \n",
    "    return print(\"That's it! It took you %d guesses.\" %numGuess)"
   ]
  },
  {
   "cell_type": "code",
   "execution_count": 6,
   "metadata": {},
   "outputs": [
    {
     "name": "stdout",
     "output_type": "stream",
     "text": [
      "Welcome to the cows and bulls game, type 'exit' to end game. \n",
      " Guess a 4 digit number: 1234\n",
      "you have 1 cows and 1 bulls\n",
      "guess another 4 digit number: 1222\n",
      "you have 1 cows and 2 bulls\n",
      "guess another 4 digit number: 1111\n",
      "you have 0 cows and 0 bulls\n",
      "guess another 4 digit number: 2222\n",
      "you have 1 cows and 3 bulls\n",
      "guess another 4 digit number: 5678\n",
      "you have 1 cows and 1 bulls\n",
      "guess another 4 digit number: 7777\n",
      "you have 0 cows and 0 bulls\n",
      "guess another 4 digit number: 6666\n",
      "you have 1 cows and 3 bulls\n",
      "guess another 4 digit number: 2266\n",
      "you have 2 cows and 2 bulls\n",
      "guess another 4 digit number: 2776\n",
      "you have 0 cows and 2 bulls\n",
      "guess another 4 digit number: 7267\n",
      "you have 2 cows and 0 bulls\n",
      "guess another 4 digit number: 5267\n",
      "you have 3 cows and 0 bulls\n",
      "guess another 4 digit number: 5263\n",
      "That's it! It took you 12 guesses.\n"
     ]
    }
   ],
   "source": [
    "cowsNbulls()"
   ]
  },
  {
   "cell_type": "code",
   "execution_count": null,
   "metadata": {},
   "outputs": [],
   "source": []
  },
  {
   "cell_type": "code",
   "execution_count": null,
   "metadata": {},
   "outputs": [],
   "source": []
  },
  {
   "cell_type": "code",
   "execution_count": null,
   "metadata": {},
   "outputs": [],
   "source": []
  }
 ],
 "metadata": {
  "kernelspec": {
   "display_name": "Python 3",
   "language": "python",
   "name": "python3"
  },
  "language_info": {
   "codemirror_mode": {
    "name": "ipython",
    "version": 3
   },
   "file_extension": ".py",
   "mimetype": "text/x-python",
   "name": "python",
   "nbconvert_exporter": "python",
   "pygments_lexer": "ipython3",
   "version": "3.6.4"
  }
 },
 "nbformat": 4,
 "nbformat_minor": 2
}
